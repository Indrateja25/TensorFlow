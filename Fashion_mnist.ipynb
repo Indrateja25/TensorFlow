{
  "nbformat": 4,
  "nbformat_minor": 0,
  "metadata": {
    "colab": {
      "name": "Fashion_mnist",
      "version": "0.3.2",
      "provenance": [],
      "collapsed_sections": [],
      "include_colab_link": true
    },
    "kernelspec": {
      "name": "python3",
      "display_name": "Python 3"
    },
    "accelerator": "GPU"
  },
  "cells": [
    {
      "cell_type": "markdown",
      "metadata": {
        "id": "view-in-github",
        "colab_type": "text"
      },
      "source": [
        "<a href=\"https://colab.research.google.com/github/Indrateja25/TensorFlow/blob/master/Fashion_mnist.ipynb\" target=\"_parent\"><img src=\"https://colab.research.google.com/assets/colab-badge.svg\" alt=\"Open In Colab\"/></a>"
      ]
    },
    {
      "cell_type": "code",
      "metadata": {
        "id": "V2FfLdhl3F03",
        "colab_type": "code",
        "colab": {}
      },
      "source": [
        "import tensorflow as tf\n",
        "from tensorflow import keras\n",
        "import numpy as np \n",
        "import matplotlib.pyplot as plt\n",
        "\n",
        "#1.Load Data\n",
        "download_data = keras.datasets.fashion_mnist\n",
        "data = download_data.load_data()\n",
        "#print(download_data)\n",
        "#print(dir(download_data))\n",
        "#print(data[0],data[1])\n",
        "\n",
        "\n",
        "#2.Observe and look into Data\n",
        "#print(len(data))  #Len , Size, Shape  \n",
        "\n",
        "train_data = data[0]\n",
        "test_data = data[1]\n",
        "\n",
        "xtrain = train_data[0]\n",
        "ytrain = train_data[1]\n",
        "xtest = test_data[0]\n",
        "ytest = test_data[1]\n",
        "\n",
        "\n",
        "#print(xtrain.shape,ytrain.shape)\n",
        "#print(xtrain[0].shape)\n",
        "\n",
        "#2.1 plot an image\n",
        "plt.figure()  #figsize = (5,5)S\n",
        "plt.imshow(xtrain[0]) #, cmap=plt.cm.binary) \n",
        "plt.colorbar()\n",
        "print(ytrain[0])\n",
        "\n",
        "#2.2 Declared classes\n",
        "classes = ['T-shirt/top', 'Trouser', 'Pullover', 'Dress', 'Coat',\n",
        "               'Sandal', 'Shirt', 'Sneaker', 'Bag', 'Ankle boot']\n",
        "\n",
        "#3.FeatureScaling\n",
        "xtrain = xtrain/255 #feature_scaling: Max-scaling\n",
        "\n",
        "\n",
        "#Creating the Model\n",
        "\n",
        "model = keras.Sequential()\n",
        "model.add(keras.layers.Flatten(input_shape = (28,28)))\n",
        "\n",
        "\n",
        "\n",
        "\n"
      ],
      "execution_count": 0,
      "outputs": []
    },
    {
      "cell_type": "code",
      "metadata": {
        "id": "Mzq3irewJlOV",
        "colab_type": "code",
        "colab": {}
      },
      "source": [
        "print(xtrain[0].shape)"
      ],
      "execution_count": 0,
      "outputs": []
    },
    {
      "cell_type": "code",
      "metadata": {
        "id": "KbD2fuDQPMvG",
        "colab_type": "code",
        "colab": {}
      },
      "source": [
        ""
      ],
      "execution_count": 0,
      "outputs": []
    }
  ]
}